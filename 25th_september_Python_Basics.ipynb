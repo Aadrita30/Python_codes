{
 "cells": [
  {
   "cell_type": "code",
   "execution_count": 3,
   "id": "9bd5f14f",
   "metadata": {},
   "outputs": [
    {
     "name": "stdout",
     "output_type": "stream",
     "text": [
      "x= 3\n",
      "y= 2\n"
     ]
    }
   ],
   "source": [
    "x=2\n",
    "y=3\n",
    "x,y=y,x\n",
    "print(\"x=\",x)\n",
    "print(\"y=\",y)"
   ]
  },
  {
   "cell_type": "code",
   "execution_count": 9,
   "id": "2ba57dde",
   "metadata": {},
   "outputs": [
    {
     "name": "stdout",
     "output_type": "stream",
     "text": [
      "3\n",
      "4\n",
      "area of the rectangle is:12\n"
     ]
    }
   ],
   "source": [
    "length=int(input())\n",
    "width=int(input())\n",
    "area=length * width\n",
    "print(\"area of the rectangle is:\" +str(area))"
   ]
  },
  {
   "cell_type": "code",
   "execution_count": 11,
   "id": "8609ba09",
   "metadata": {},
   "outputs": [
    {
     "name": "stdout",
     "output_type": "stream",
     "text": [
      "5\n",
      "temperature in fahrenheit= 41.0\n"
     ]
    }
   ],
   "source": [
    "c=float(input())\n",
    "f=(c*9/5)+32\n",
    "print(\"temperature in fahrenheit=\",f)"
   ]
  },
  {
   "cell_type": "code",
   "execution_count": 5,
   "id": "7130117b",
   "metadata": {},
   "outputs": [
    {
     "name": "stdout",
     "output_type": "stream",
     "text": [
      "enter the string:hello\n",
      "5\n"
     ]
    }
   ],
   "source": [
    "a = input(\"enter the string:\")\n",
    "b = len(a)\n",
    "count = 0\n",
    "for i in range(b):\n",
    "    count= count +1\n",
    "print(count)\n"
   ]
  },
  {
   "cell_type": "code",
   "execution_count": 3,
   "id": "75550756",
   "metadata": {},
   "outputs": [
    {
     "name": "stdout",
     "output_type": "stream",
     "text": [
      "enter the string:i am an umbrella\n",
      "no of vowels: 6\n"
     ]
    }
   ],
   "source": [
    "def vowelcount(str):\n",
    "    count = 0\n",
    "    vowel = set(\"aeiou\")\n",
    "    for alphabet in str:\n",
    "        if alphabet in vowel:\n",
    "            count = count + 1\n",
    "    print(\"no of vowels:\", count)\n",
    "str = input(\"enter the string:\")\n",
    "vowelcount(str)\n"
   ]
  },
  {
   "cell_type": "code",
   "execution_count": 4,
   "id": "8b32c471",
   "metadata": {},
   "outputs": [
    {
     "name": "stdout",
     "output_type": "stream",
     "text": [
      "gnimmargorp nohtyp\n"
     ]
    }
   ],
   "source": [
    "str=\"python programming\"\n",
    "print(str[::-1])"
   ]
  },
  {
   "cell_type": "code",
   "execution_count": 12,
   "id": "635bc30c",
   "metadata": {},
   "outputs": [
    {
     "name": "stdout",
     "output_type": "stream",
     "text": [
      "Enter the string:madam\n",
      "This string is a palindrome\n"
     ]
    }
   ],
   "source": [
    "string=input(\"Enter the string:\")\n",
    "string_rev=string[::-1]\n",
    "if (string == string_rev):\n",
    "    print(\"This string is a palindrome\")\n",
    "else:\n",
    "    print(\"This string is not a palindrome\")"
   ]
  },
  {
   "cell_type": "code",
   "execution_count": 10,
   "id": "4505b347",
   "metadata": {},
   "outputs": [
    {
     "name": "stdout",
     "output_type": "stream",
     "text": [
      "enter the string:hello py thon\n",
      "hellopython\n"
     ]
    }
   ],
   "source": [
    "str=input(\"enter the string:\")\n",
    "str2=str.replace(\" \", \"\")\n",
    "print(str2)"
   ]
  }
 ],
 "metadata": {
  "kernelspec": {
   "display_name": "Python 3 (ipykernel)",
   "language": "python",
   "name": "python3"
  },
  "language_info": {
   "codemirror_mode": {
    "name": "ipython",
    "version": 3
   },
   "file_extension": ".py",
   "mimetype": "text/x-python",
   "name": "python",
   "nbconvert_exporter": "python",
   "pygments_lexer": "ipython3",
   "version": "3.11.4"
  }
 },
 "nbformat": 4,
 "nbformat_minor": 5
}
